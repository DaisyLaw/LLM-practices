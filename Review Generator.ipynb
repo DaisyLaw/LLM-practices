{
 "cells": [
  {
   "cell_type": "code",
   "execution_count": 8,
   "id": "612f74d5-e4c2-473d-9647-2743dca0b4fe",
   "metadata": {},
   "outputs": [],
   "source": [
    "import os\n",
    "from dotenv import load_dotenv\n",
    "from langchain_openai import ChatOpenAI\n",
    "\n",
    "\n",
    "# Load environment variables from .env file\n",
    "load_dotenv()\n",
    "\n",
    "\n",
    "# Ensure the OpenAI API key is set in the environment\n",
    "openai_api_key = os.getenv('OPENAI_API_KEY')\n",
    "if not openai_api_key:\n",
    "    raise ValueError(\"OPENAI_API_KEY environment variable is not set\")\n",
    "\n",
    "\n",
    "# Select the OpenAI model\n",
    "model_name = \"gpt-4o-mini\"  # Replace with the desired model name\n",
    "\n",
    "# Initialize the OpenAI LLM (Language Learning Model)\n",
    "llm = ChatOpenAI(api_key=openai_api_key, model=model_name)"
   ]
  },
  {
   "cell_type": "code",
   "execution_count": 9,
   "id": "5c709eb4-98dd-4318-83b6-8d9fc1dece77",
   "metadata": {},
   "outputs": [],
   "source": [
    "# Load docs\n",
    "from langchain_community.document_loaders import PyPDFLoader\n",
    "\n",
    "loader = PyPDFLoader(\"./Basics of Writing Review Articles.pdf\")\n",
    "docs = loader.load()\n",
    "\n",
    "\n",
    "# Split\n",
    "from langchain.text_splitter import RecursiveCharacterTextSplitter\n",
    "\n",
    "text_splitter = RecursiveCharacterTextSplitter(chunk_size=1000, chunk_overlap=25)\n",
    "all_splits = text_splitter.split_documents(docs)"
   ]
  },
  {
   "cell_type": "code",
   "execution_count": null,
   "id": "1ba507a5",
   "metadata": {},
   "outputs": [],
   "source": [
    "# Index\n",
    "from langchain_chroma import Chroma\n",
    "\n",
    "from langchain_openai.embeddings import OpenAIEmbeddings\n",
    "\n",
    "!rm -rf ../data/review/vectorstore # remove old database files if any\n",
    "\n",
    "vector_store = Chroma(\n",
    "    collection_name=\"example_collection\",\n",
    "    embedding_function=OpenAIEmbeddings(),\n",
    "    persist_directory=\"data/review/vectorstore\")\n",
    "\n",
    "vector_store.add_documents(all_splits)"
   ]
  },
  {
   "cell_type": "code",
   "execution_count": 10,
   "id": "b651d624-2b2b-435e-9a35-344f1dc01a3c",
   "metadata": {},
   "outputs": [],
   "source": [
    "# Retrieve\n",
    "retriever = vector_store.as_retriever(\n",
    "    search_type=\"mmr\", search_kwargs={\"k\": 1, \"fetch_k\": 5}\n",
    ")"
   ]
  },
  {
   "cell_type": "code",
   "execution_count": null,
   "id": "f409e06c",
   "metadata": {},
   "outputs": [],
   "source": [
    "# Create papers retriever\n",
    "def papers_retriever(urls):\n",
    "    !rm -rf ../data/paper/vectorstore\n",
    "\n",
    "    papers = [PyPDFLoader(url).load() for url in urls]\n",
    "    papers_list = [item for sublist in papers for item in sublist]\n",
    "    \n",
    "    paper_splitter = RecursiveCharacterTextSplitter(chunk_size=1000, chunk_overlap=20)\n",
    "    all_splits = paper_splitter.split_documents(papers_list)\n",
    "    \n",
    "    papers_vectorstore = Chroma(\n",
    "                          collection_name=\"example_collection\",\n",
    "                          embedding_function=OpenAIEmbeddings(),\n",
    "                          persist_directory=\"data/paper/vectorstore\")\n",
    "    papers_vectorstore.add_documents(all_splits)\n",
    "\n",
    "    papers_retriever = papers_vectorstore.as_retriever(\n",
    "                       search_type=\"mmr\", search_kwargs={\"k\": 1, \"fetch_k\": 5}\n",
    ")\n",
    "    \n",
    "    return papers_retriever"
   ]
  },
  {
   "cell_type": "code",
   "execution_count": 11,
   "id": "973587e7-de3e-4622-85fb-e766aa0ddb20",
   "metadata": {},
   "outputs": [],
   "source": [
    "from langchain_core.output_parsers import StrOutputParser\n",
    "from langchain_core.prompts import ChatPromptTemplate\n",
    "from langchain_core.runnables import RunnablePassthrough\n",
    "\n",
    "\n",
    "# It takes in the documents as {context} and user provides a {topic}.\n",
    "template = \"\"\"\n",
    "You are an expert in writing reviews who helps a research to write a review on a specific topic.\n",
    "Use the tips in the context and write a scientific review on a topic provided by a user.\n",
    "\n",
    "Context: {context}\n",
    "Topic: {topic}\n",
    "\n",
    "Provide the review in JSON format with the following fields in the order:\n",
    "-\"Abstract\"\n",
    "-\"Keywords\"\n",
    "-\"Introduction\"\n",
    "-\"Methods\"\n",
    "-\"Results\"\n",
    "-\"Discussion\"\n",
    "-\"Conclusion\"\n",
    "This JSON will be automatically parsed, so ensure the format is precise.\n",
    "\n",
    "\n",
    "\"\"\"\n",
    "\n",
    "prompt = ChatPromptTemplate.from_template(template)\n",
    "\n",
    "model = llm\n",
    "\n",
    "def format_docs(docs):\n",
    "    return \"\\n\\n\".join(doc.page_content for doc in docs)"
   ]
  },
  {
   "cell_type": "code",
   "execution_count": null,
   "id": "38bdbae8",
   "metadata": {},
   "outputs": [],
   "source": [
    "# Initialize an empty list to store the PDF URLs\n",
    "pdf_urls = []\n",
    "\n",
    "while True:\n",
    "    # Ask the user to input a file path\n",
    "    user_input = input(\"Enter a PDF file path or 'Finished' to stop: \")\n",
    "\n",
    "    # Check if the user wants to stop the loop\n",
    "    if user_input.lower() == \"finished\":\n",
    "        break\n",
    "\n",
    "    # Validate if the input ends with '.pdf'\n",
    "    if user_input.endswith(\".pdf\"):\n",
    "        # Store the valid PDF URL in the list\n",
    "        pdf_urls.append(user_input)\n",
    "    else:\n",
    "        print(\"Invalid input. Please enter a URL that ends with '.pdf'.\")\n",
    "\n",
    "# Output the collected PDF URLs\n",
    "print(\"Collected PDF URLs:\", pdf_urls)"
   ]
  },
  {
   "cell_type": "code",
   "execution_count": null,
   "id": "d3677cc1",
   "metadata": {},
   "outputs": [],
   "source": [
    "papers_retriever = papers_retriever(pdf_urls)"
   ]
  },
  {
   "cell_type": "code",
   "execution_count": null,
   "id": "83091f09-a9f2-4933-94a0-3ac845b1a949",
   "metadata": {},
   "outputs": [],
   "source": [
    "# Using LangCHain LCEL to supply the prompt and generate output\n",
    "chain = (\n",
    "        {\"context\": retriever | format_docs, \"papers\": papers_retriever, \"topic\": RunnablePassthrough()}\n",
    "        | prompt\n",
    "        | llm\n",
    "        | StrOutputParser()\n",
    "     )\n",
    "\n",
    "topic = input(\"Enter a topic:\")\n",
    "\n",
    "chain.invoke(topic)"
   ]
  },
  {
   "cell_type": "code",
   "execution_count": null,
   "id": "2b7a8f98-fafb-4b6c-96e3-28e04251f173",
   "metadata": {},
   "outputs": [],
   "source": []
  },
  {
   "cell_type": "code",
   "execution_count": null,
   "id": "715e316f-b97b-40d2-8258-001326aac3b9",
   "metadata": {},
   "outputs": [],
   "source": []
  },
  {
   "cell_type": "code",
   "execution_count": null,
   "id": "1b36537b-95be-40f1-9b50-952e01867df4",
   "metadata": {},
   "outputs": [],
   "source": []
  },
  {
   "cell_type": "code",
   "execution_count": null,
   "id": "ca35e3bd-c5a5-41ae-8c46-ccc2113fe112",
   "metadata": {},
   "outputs": [],
   "source": []
  },
  {
   "cell_type": "code",
   "execution_count": null,
   "id": "1d76fe71-b8f0-4255-ad94-5e8fcb8d095b",
   "metadata": {},
   "outputs": [],
   "source": []
  },
  {
   "cell_type": "code",
   "execution_count": null,
   "id": "36e594a9-09d3-4d48-91f7-39e9185ffdad",
   "metadata": {},
   "outputs": [],
   "source": []
  },
  {
   "cell_type": "code",
   "execution_count": null,
   "id": "a68e1d3d-1f85-4ac8-80ed-d0571dccd884",
   "metadata": {},
   "outputs": [],
   "source": []
  },
  {
   "cell_type": "code",
   "execution_count": null,
   "id": "984b097e-10fe-460d-aa94-1c83484c9b26",
   "metadata": {},
   "outputs": [],
   "source": []
  },
  {
   "cell_type": "code",
   "execution_count": null,
   "id": "7420264b-b9c5-4782-b2d3-0ed56ab6e74c",
   "metadata": {},
   "outputs": [],
   "source": []
  },
  {
   "cell_type": "code",
   "execution_count": null,
   "id": "e9da0f02-0d9f-443d-854c-280f0c489b9d",
   "metadata": {},
   "outputs": [],
   "source": []
  },
  {
   "cell_type": "code",
   "execution_count": null,
   "id": "f8a77c3c-3d6c-4c20-b81c-654792757e20",
   "metadata": {},
   "outputs": [],
   "source": []
  }
 ],
 "metadata": {
  "kernelspec": {
   "display_name": "Python 3 (ipykernel)",
   "language": "python",
   "name": "python3"
  },
  "language_info": {
   "codemirror_mode": {
    "name": "ipython",
    "version": 3
   },
   "file_extension": ".py",
   "mimetype": "text/x-python",
   "name": "python",
   "nbconvert_exporter": "python",
   "pygments_lexer": "ipython3",
   "version": "3.11.9"
  }
 },
 "nbformat": 4,
 "nbformat_minor": 5
}
